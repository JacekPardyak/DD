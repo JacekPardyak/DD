{
  "cells": [
    {
      "cell_type": "raw",
      "metadata": {},
      "source": [
        "---\n",
        "title: \"Untitled\"\n",
        "format:\n",
        "  revealjs:\n",
        "    logo: logo.svg\n",
        "    theme: custom.scss\n",
        "---"
      ],
      "id": "9da6dfca"
    },
    {
      "cell_type": "markdown",
      "metadata": {},
      "source": [
        "## <span>.</span>Outline\n",
        "\n",
        "Quarto enables you to weave together content and executable code into a finished presentation. To learn more about Quarto presentations see <https://quarto.org/docs/presentations/>.\n",
        "\n",
        "## <span>.</span>Bullets\n",
        "\n",
        "When you click the **Render** button a document will be generated that includes:\n",
        "\n",
        "-   Content authored with markdown\n",
        "-   Output from executable code\n",
        "\n",
        "## <span>.</span>Code\n"
      ],
      "id": "3da30170"
    },
    {
      "cell_type": "code",
      "metadata": {},
      "source": [
        "#| code-line-numbers: \"|6|9\"\n",
        "\n",
        "import numpy as np\n",
        "import matplotlib.pyplot as plt\n",
        "\n",
        "r = np.arange(0, 2, 0.01)\n",
        "theta = 2 * np.pi * r\n",
        "fig, ax = plt.subplots(subplot_kw={'projection': 'polar'})\n",
        "ax.plot(theta, r)\n",
        "ax.set_rticks([0.5, 1, 1.5, 2])\n",
        "ax.grid(True)\n",
        "plt.show()"
      ],
      "id": "df54223c",
      "execution_count": null,
      "outputs": []
    }
  ],
  "metadata": {
    "kernelspec": {
      "display_name": "Python 3",
      "language": "python",
      "name": "python3"
    }
  },
  "nbformat": 4,
  "nbformat_minor": 5
}